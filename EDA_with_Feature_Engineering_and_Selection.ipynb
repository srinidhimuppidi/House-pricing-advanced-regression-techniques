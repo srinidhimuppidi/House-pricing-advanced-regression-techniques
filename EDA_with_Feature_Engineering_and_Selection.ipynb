{
  "nbformat": 4,
  "nbformat_minor": 0,
  "metadata": {
    "kernelspec": {
      "display_name": "Python 3",
      "language": "python",
      "name": "python3"
    },
    "language_info": {
      "codemirror_mode": {
        "name": "ipython",
        "version": 3
      },
      "file_extension": ".py",
      "mimetype": "text/x-python",
      "name": "python",
      "nbconvert_exporter": "python",
      "pygments_lexer": "ipython3",
      "version": "3.6.7"
    },
    "colab": {
      "name": "EDA with Feature Engineering and Selection.ipynb",
      "provenance": [],
      "collapsed_sections": []
    }
  },
  "cells": [
    {
      "cell_type": "markdown",
      "metadata": {
        "id": "view-in-github"
      },
      "source": [
        "<a href=\"https://colab.research.google.com/github/Insurgent123/Advanced-House-price-prediction/blob/main/EDA%20with%20Feature%20Engineering%20and%20Selection.ipynb\" target=\"_parent\"><img src=\"https://colab.research.google.com/assets/colab-badge.svg\" alt=\"Open In Colab\"/></a>"
      ]
    },
    {
      "cell_type": "markdown",
      "metadata": {
        "id": "5QChUBKGRWHc"
      },
      "source": [
        "## Building Machine Learning Pipelines: Data Analysis Phase\n",
        "\n"
      ]
    },
    {
      "cell_type": "markdown",
      "metadata": {
        "id": "EuWlav8BRWHf"
      },
      "source": [
        "## Project Name: House Prices: Advanced Regression Techniques\n",
        "\n",
        "The main aim of this project is to predict the house price based on various features which we will discuss as we go ahead\n"
      ]
    },
    {
      "cell_type": "markdown",
      "metadata": {
        "id": "cYB3qyEcRWHg"
      },
      "source": [
        "##  Lifecycle OF A Data Science Project\n",
        "1. Data Analysis\n",
        "2. Feature Engineering\n",
        "3. Feature Selection\n",
        "4. Model Building\n",
        "5. Model Deployment"
      ]
    },
    {
      "cell_type": "markdown",
      "metadata": {
        "id": "rSeCCHdARUoQ"
      },
      "source": [
        "# Feature Selection and Feature Engineering"
      ]
    },
    {
      "cell_type": "code",
      "metadata": {
        "id": "W2W3Fvb-RZ38",
        "colab": {
          "base_uri": "https://localhost:8080/"
        },
        "outputId": "33dcac1c-18f1-4004-cc2a-1c2a43a5ce26"
      },
      "source": [
        "# Handling Missing values in Categorical features\n",
        "\n",
        "features_nan=[feature for feature in dataset.columns if dataset[feature].isnull().sum()>1 and dataset[feature].dtypes=='O']\n",
        "\n",
        "for feature in features_nan:\n",
        "    print(\"{}: {}% missing values\".format(feature,np.round(dataset[feature].isnull().mean(),4)))"
      ],
      "execution_count": null,
      "outputs": [
        {
          "output_type": "stream",
          "name": "stdout",
          "text": [
            "Alley: 0.9377% missing values\n",
            "MasVnrType: 0.0055% missing values\n",
            "BsmtQual: 0.0253% missing values\n",
            "BsmtCond: 0.0253% missing values\n",
            "BsmtExposure: 0.026% missing values\n",
            "BsmtFinType1: 0.0253% missing values\n",
            "BsmtFinType2: 0.026% missing values\n",
            "FireplaceQu: 0.4726% missing values\n",
            "GarageType: 0.0555% missing values\n",
            "GarageFinish: 0.0555% missing values\n",
            "GarageQual: 0.0555% missing values\n",
            "GarageCond: 0.0555% missing values\n",
            "PoolQC: 0.9952% missing values\n",
            "Fence: 0.8075% missing values\n",
            "MiscFeature: 0.963% missing values\n"
          ]
        }
      ]
    },
    {
      "cell_type": "code",
      "metadata": {
        "id": "qdY-7Hy8SvID",
        "colab": {
          "base_uri": "https://localhost:8080/"
        },
        "outputId": "e0cbaef2-14b2-4470-8f23-0bc925711896"
      },
      "source": [
        "def replace_cat_feature(dataset,features_nan):\n",
        "    data=dataset.copy()\n",
        "    data[features_nan]=data[features_nan].fillna('Missing')\n",
        "    return data\n",
        "\n",
        "dataset=replace_cat_feature(dataset,features_nan)\n",
        "\n",
        "dataset[features_nan].isnull().sum()"
      ],
      "execution_count": null,
      "outputs": [
        {
          "output_type": "execute_result",
          "data": {
            "text/plain": [
              "Alley           0\n",
              "MasVnrType      0\n",
              "BsmtQual        0\n",
              "BsmtCond        0\n",
              "BsmtExposure    0\n",
              "BsmtFinType1    0\n",
              "BsmtFinType2    0\n",
              "FireplaceQu     0\n",
              "GarageType      0\n",
              "GarageFinish    0\n",
              "GarageQual      0\n",
              "GarageCond      0\n",
              "PoolQC          0\n",
              "Fence           0\n",
              "MiscFeature     0\n",
              "dtype: int64"
            ]
          },
          "metadata": {},
          "execution_count": 28
        }
      ]
    }
  ]
}