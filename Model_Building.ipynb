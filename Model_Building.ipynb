{
  "nbformat": 4,
  "nbformat_minor": 0,
  "metadata": {
    "kernelspec": {
      "display_name": "Python 3",
      "language": "python",
      "name": "python3"
    },
    "language_info": {
      "codemirror_mode": {
        "name": "ipython",
        "version": 3
      },
      "file_extension": ".py",
      "mimetype": "text/x-python",
      "name": "python",
      "nbconvert_exporter": "python",
      "pygments_lexer": "ipython3",
      "version": "3.6.7"
    },
    "colab": {
      "name": "Model Building",
      "provenance": [],
      "collapsed_sections": []
    }
  },
  "cells": [
    {
      "cell_type": "markdown",
      "metadata": {
        "id": "5QChUBKGRWHc"
      },
      "source": [
        "## Building Machine Learning Pipelines: Data Analysis Phase\n",
        "\n"
      ]
    },
    {
      "cell_type": "code",
      "metadata": {
        "id": "yaOkUl8B5Ipu"
      },
      "source": [
        "# K Nearest Neighbours\n",
        "from sklearn.neighbors import KNeighborsRegressor\n",
        "knn_model = KNeighborsRegressor(n_neighbors=3)"
      ],
      "execution_count": null,
      "outputs": []
    },
    {
      "cell_type": "code",
      "metadata": {
        "colab": {
          "base_uri": "https://localhost:8080/"
        },
        "id": "SHawBbmM5p3d",
        "outputId": "e5d35bb6-de98-4d5f-b5fc-99b2a9e4ae25"
      },
      "source": [
        "knn_model.fit(x_train, y_train)"
      ],
      "execution_count": null,
      "outputs": [
        {
          "output_type": "execute_result",
          "data": {
            "text/plain": [
              "KNeighborsRegressor(algorithm='auto', leaf_size=30, metric='minkowski',\n",
              "                    metric_params=None, n_jobs=None, n_neighbors=3, p=2,\n",
              "                    weights='uniform')"
            ]
          },
          "metadata": {},
          "execution_count": 109
        }
      ]
    },
    {
      "cell_type": "code",
      "metadata": {
        "colab": {
          "base_uri": "https://localhost:8080/"
        },
        "id": "XXjPbpRm5t7m",
        "outputId": "274c6eca-e6a3-4ba4-9718-f3f4e45eeda9"
      },
      "source": [
        "from math import sqrt\n",
        "train_preds = knn_model.predict(x_test)\n",
        "mse = mean_squared_error(y_test, train_preds)\n",
        "rmse = sqrt(mse)\n",
        "print(f\"The RMSE score for KNN is :{rmse}\")"
      ],
      "execution_count": null,
      "outputs": [
        {
          "output_type": "stream",
          "name": "stdout",
          "text": [
            "The RMSE score for KNN is :0.13979900522826713\n"
          ]
        }
      ]
    }
  ]
}