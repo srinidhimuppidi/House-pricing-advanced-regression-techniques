{
  "nbformat": 4,
  "nbformat_minor": 0,
  "metadata": {
    "kernelspec": {
      "display_name": "Python 3",
      "language": "python",
      "name": "python3"
    },
    "language_info": {
      "codemirror_mode": {
        "name": "ipython",
        "version": 3
      },
      "file_extension": ".py",
      "mimetype": "text/x-python",
      "name": "python",
      "nbconvert_exporter": "python",
      "pygments_lexer": "ipython3",
      "version": "3.6.7"
    },
    "colab": {
      "name": "Model Building with Evaluation Metrics",
      "provenance": [],
      "collapsed_sections": []
    }
  },
  "cells": [
    {
      "cell_type": "markdown",
      "metadata": {
        "id": "EuWlav8BRWHf"
      },
      "source": [
        "## Project Name: House Prices: Advanced Regression Techniques\n",
        "\n",
        "The main aim of this project is to predict the house price based on various features."
      ]
    },
    {
      "cell_type": "code",
      "metadata": {
        "colab": {
          "base_uri": "https://localhost:8080/"
        },
        "id": "YZx7fEVbxayY",
        "outputId": "ce54e2af-df58-44c5-eda6-bd56bf2f52e4"
      },
      "source": [
        "# Metric Evaluation for KNN\n",
        "print(\"MAE\",mean_absolute_error(y_test, train_preds))\n",
        "print(\"MSE\",mean_squared_error(y_test, train_preds))\n",
        "print(\"RMSE\",np.sqrt(mean_squared_error(y_test, train_preds)))\n",
        "print(\"RMSE Logarithmic\",np.log(np.sqrt(mean_squared_error(y_test, train_preds))))"
      ],
      "execution_count": null,
      "outputs": [
        {
          "output_type": "stream",
          "name": "stdout",
          "text": [
            "MAE 0.10804673981339966\n",
            "MSE 0.019543761862813064\n",
            "RMSE 0.13979900522826713\n",
            "RMSE Logarithmic -1.9675495648853751\n"
          ]
        }
      ]
    }
  ]
}